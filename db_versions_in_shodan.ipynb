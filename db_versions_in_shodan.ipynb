{
  "nbformat": 4,
  "nbformat_minor": 0,
  "metadata": {
    "colab": {
      "name": "db_versions_in_shodan.ipynb",
      "version": "0.3.2",
      "provenance": [],
      "collapsed_sections": [],
      "include_colab_link": true
    },
    "kernelspec": {
      "name": "python3",
      "display_name": "Python 3"
    }
  },
  "cells": [
    {
      "cell_type": "markdown",
      "metadata": {
        "id": "view-in-github",
        "colab_type": "text"
      },
      "source": [
        "<a href=\"https://colab.research.google.com/github/khen-mydro/vscode-docs/blob/master/db_versions_in_shodan.ipynb\" target=\"_parent\"><img src=\"https://colab.research.google.com/assets/colab-badge.svg\" alt=\"Open In Colab\"/></a>"
      ]
    },
    {
      "metadata": {
        "id": "FdR82mPtOgps",
        "colab_type": "text"
      },
      "cell_type": "markdown",
      "source": [
        "# Init\n"
      ]
    },
    {
      "metadata": {
        "id": "dUbz-084OnU9",
        "colab_type": "code",
        "colab": {
          "base_uri": "https://localhost:8080/",
          "height": 187
        },
        "outputId": "1ca152db-122d-4754-9466-b88672489bd5"
      },
      "cell_type": "code",
      "source": [
        "!pip install shodan\n",
        "\n",
        "import shodan\n",
        "import time\n",
        "import os\n",
        "import copy\n",
        "import json\n",
        "import pprint\n",
        "\n",
        "KEYS_TO_FILTER = ['ssl', 'html', 'http']\n",
        "\n",
        "SHODAN_API_KEY = '2NbYf1wK2x72WzoiNedsEzlKb8srvvy6'\n"
      ],
      "execution_count": 23,
      "outputs": [
        {
          "output_type": "stream",
          "text": [
            "Requirement already satisfied: shodan in /usr/local/lib/python3.6/dist-packages (1.11.1)\n",
            "Requirement already satisfied: requests>=2.2.1 in /usr/local/lib/python3.6/dist-packages (from shodan) (2.18.4)\n",
            "Requirement already satisfied: click in /usr/local/lib/python3.6/dist-packages (from shodan) (7.0)\n",
            "Requirement already satisfied: click-plugins in /usr/local/lib/python3.6/dist-packages (from shodan) (1.0.4)\n",
            "Requirement already satisfied: XlsxWriter in /usr/local/lib/python3.6/dist-packages (from shodan) (1.1.5)\n",
            "Requirement already satisfied: colorama in /usr/local/lib/python3.6/dist-packages (from shodan) (0.4.1)\n",
            "Requirement already satisfied: idna<2.7,>=2.5 in /usr/local/lib/python3.6/dist-packages (from requests>=2.2.1->shodan) (2.6)\n",
            "Requirement already satisfied: chardet<3.1.0,>=3.0.2 in /usr/local/lib/python3.6/dist-packages (from requests>=2.2.1->shodan) (3.0.4)\n",
            "Requirement already satisfied: urllib3<1.23,>=1.21.1 in /usr/local/lib/python3.6/dist-packages (from requests>=2.2.1->shodan) (1.22)\n",
            "Requirement already satisfied: certifi>=2017.4.17 in /usr/local/lib/python3.6/dist-packages (from requests>=2.2.1->shodan) (2019.3.9)\n"
          ],
          "name": "stdout"
        }
      ]
    },
    {
      "metadata": {
        "id": "b7lZ-6I5OsIh",
        "colab_type": "text"
      },
      "cell_type": "markdown",
      "source": [
        "# Query Shodan"
      ]
    },
    {
      "metadata": {
        "id": "Yl56Uv_jO19u",
        "colab_type": "code",
        "colab": {}
      },
      "cell_type": "code",
      "source": [
        "FACETS = [\n",
        "    'port',\n",
        "    'os',\n",
        "    'cpe',\n",
        "    'data',\n",
        "    'hash',\n",
        "    'hostnames',\n",
        "    'ip',\n",
        "    'ip_string',\n",
        "    'location',\n",
        "    'port',\n",
        "    'product',\n",
        "    'tags',\n",
        "    'timestamp',\n",
        "    'transport',\n",
        "    'version',\n",
        "]\n",
        "\n",
        "\n",
        "def filter_scan_result(scan_result):\n",
        "    scan_result = dict(scan_result)\n",
        "    matches = scan_result.get('matches', {})\n",
        "    if not matches:\n",
        "        return scan_result\n",
        "\n",
        "    for match in matches:\n",
        "        if 'data' in match:\n",
        "            del match['data']\n",
        "        if 'http' in match:\n",
        "            del match['http']\n",
        "        if 'ssl' in match:\n",
        "            del match['ssl']\n",
        "\n",
        "    return scan_result\n",
        "\n",
        "def recursive_shodan_filter(scan_result):\n",
        "    if isinstance(scan_result, dict):\n",
        "        for key in KEYS_TO_FILTER:\n",
        "            if key in scan_result:\n",
        "                del scan_result[key]\n",
        "        if 'data' in scan_result:\n",
        "            if isinstance(scan_result['data'], str):\n",
        "                del scan_result['data']\n",
        "            else:\n",
        "                recursive_shodan_filter(scan_result['data'])\n",
        "    elif isinstance(scan_result, list):\n",
        "        for item in scan_result:\n",
        "            recursive_shodan_filter(item)\n",
        "    return scan_result\n",
        "\n",
        "def search_db_target(target, facets=FACETS):\n",
        "    api = shodan.Shodan(SHODAN_API_KEY)\n",
        "    result = {}\n",
        "\n",
        "    query = f'{target}'\n",
        "    try:\n",
        "#         result = recursive_shodan_filter(api.search(query=query))\n",
        "        result = api.search(query=query, facets=facets, limit=1000)\n",
        "        \n",
        "    except shodan.exception.APIError as ex:\n",
        "        raise\n",
        "\n",
        "    return result"
      ],
      "execution_count": 0,
      "outputs": []
    },
    {
      "metadata": {
        "id": "ge3JUtCRQ0dR",
        "colab_type": "code",
        "colab": {}
      },
      "cell_type": "code",
      "source": [
        "res = search_db_target('postgresql')\n",
        "print(res['total'])\n",
        "len(res['matches'])\n",
        "# pprint.pprint(res['matches'][0])"
      ],
      "execution_count": 0,
      "outputs": []
    },
    {
      "metadata": {
        "id": "pX3TMNYUSeAm",
        "colab_type": "code",
        "colab": {
          "base_uri": "https://localhost:8080/",
          "height": 34
        },
        "outputId": "695dbe4b-c53e-4c1a-b3ea-dc72d0523b40"
      },
      "cell_type": "code",
      "source": [
        "from collections import defaultdict\n",
        "def get_version_count(data):\n",
        "  total = 0\n",
        "  versions = defaultdict(int)\n",
        "  \n",
        "  \n",
        "  for item in data:\n",
        "    if 'version' not in item:\n",
        "      continue\n",
        "    version = int(float(item['version'][:3])) # trim version string so we get major versions\n",
        "    versions[version] += 1\n",
        "    total += 1\n",
        "  return {'versions': versions, 'total': total}\n",
        "  \n",
        "     \n",
        "  \n",
        "matches = res['matches']\n",
        "versions = get_version_count(matches)\n",
        "\n",
        "pprint.pprint(versions['versions'])\n"
      ],
      "execution_count": 76,
      "outputs": [
        {
          "output_type": "stream",
          "text": [
            "defaultdict(<class 'int'>, {9: 632, 8: 56, 10: 88, 11: 11, 4: 1})\n"
          ],
          "name": "stdout"
        }
      ]
    },
    {
      "metadata": {
        "id": "R_hodnqJasX6",
        "colab_type": "text"
      },
      "cell_type": "markdown",
      "source": [
        "# Visualize\n"
      ]
    },
    {
      "metadata": {
        "id": "9z4KRfZrayQr",
        "colab_type": "code",
        "colab": {
          "base_uri": "https://localhost:8080/",
          "height": 620
        },
        "outputId": "2a60dd8d-bace-46cc-c29b-39c0a952d92e"
      },
      "cell_type": "code",
      "source": [
        "import numpy as np\n",
        "import matplotlib.pyplot as plt\n",
        "from matplotlib.ticker import MaxNLocator\n",
        "from collections import namedtuple\n",
        "\n",
        "x = []\n",
        "y = []\n",
        "\n",
        "for v in sorted(versions['versions']):\n",
        "  x.append(v)\n",
        "  y.append(versions['versions'][v])\n",
        "\n",
        "\n",
        "n_groups = len(x)\n",
        "\n",
        "version_counts = y\n",
        "\n",
        "fig, ax = plt.subplots(figsize=(10,10))\n",
        "\n",
        "index = np.arange(n_groups)\n",
        "bar_width = 0.5\n",
        "\n",
        "opacity = 0.4\n",
        "\n",
        "rects1 = ax.bar(index, version_counts, bar_width,\n",
        "                alpha=opacity, color='b',\n",
        "                label='version count')\n",
        "\n",
        "ax.set_xlabel('Postgres Version')\n",
        "ax.set_ylabel('Count')\n",
        "ax.set_title('Postgres Versions in Shodan db')\n",
        "\n",
        "ax.set_xticks(index + bar_width / 2)\n",
        "ax.set_xticklabels(x)\n",
        "ax.legend()\n",
        "\n",
        "plt.show()\n",
        " \n",
        "# # Tweak spacing to prevent clipping of ylabel\n",
        "# plt.subplots_adjust(left=0.15)\n",
        "# plt.show()"
      ],
      "execution_count": 79,
      "outputs": [
        {
          "output_type": "display_data",
          "data": {
            "image/png": "[encoded data removed]",
            "text/plain": [
              "<Figure size 720x720 with 1 Axes>"
            ]
          },
          "metadata": {
            "tags": []
          }
        }
      ]
    },
    {
      "metadata": {
        "id": "QSKU7c1ra9kl",
        "colab_type": "code",
        "colab": {}
      },
      "cell_type": "code",
      "source": [
        ""
      ],
      "execution_count": 0,
      "outputs": []
    }
  ]
}